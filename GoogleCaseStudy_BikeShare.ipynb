{
 "cells": [
  {
   "cell_type": "code",
   "execution_count": 1,
   "id": "12198f7f",
   "metadata": {},
   "outputs": [],
   "source": [
    "#importing libraries\n",
    "\n",
    "import pandas as pd\n",
    "import numpy as np\n",
    "import matplotlib.pyplot as plt\n",
    "import seaborn as sns\n",
    "import datetime"
   ]
  },
  {
   "cell_type": "code",
   "execution_count": 60,
   "id": "e99c902d",
   "metadata": {},
   "outputs": [],
   "source": [
    "#importing files\n",
    "\n",
    "jan = pd.read_csv(\"202201-divvy-tripdata.csv\")\n",
    "feb = pd.read_csv(\"202202-divvy-tripdata.csv\")\n",
    "march = pd.read_csv(\"202203-divvy-tripdata.csv\")\n",
    "april = pd.read_csv(\"202204-divvy-tripdata.csv\")\n",
    "may = pd.read_csv(\"202205-divvy-tripdata.csv\")\n",
    "june =  pd.read_csv(\"202206-divvy-tripdata.csv\")\n",
    "july =  pd.read_csv(\"202207-divvy-tripdata.csv\")\n",
    "aug =  pd.read_csv(\"202208-divvy-tripdata.csv\")\n",
    "sep =  pd.read_csv(\"202209-divvy-tripdata.csv\")\n",
    "oct =  pd.read_csv(\"202210-divvy-tripdata.csv\")\n",
    "nov =  pd.read_csv(\"202211-divvy-tripdata.csv\")\n",
    "dec =  pd.read_csv(\"202212-divvy-tripdata.csv\")"
   ]
  },
  {
   "cell_type": "code",
   "execution_count": 73,
   "id": "2b08007f",
   "metadata": {},
   "outputs": [],
   "source": [
    "#Merging the files\n",
    "\n",
    "all_dfs = [jan, feb, march, april, may, june, july, aug, sep, oct, nov, dec ]\n",
    "case_file = pd.concat(all_dfs)\n",
    "df = case_file"
   ]
  },
  {
   "cell_type": "code",
   "execution_count": 74,
   "id": "977c2aad",
   "metadata": {},
   "outputs": [
    {
     "data": {
      "text/html": [
       "<div>\n",
       "<style scoped>\n",
       "    .dataframe tbody tr th:only-of-type {\n",
       "        vertical-align: middle;\n",
       "    }\n",
       "\n",
       "    .dataframe tbody tr th {\n",
       "        vertical-align: top;\n",
       "    }\n",
       "\n",
       "    .dataframe thead th {\n",
       "        text-align: right;\n",
       "    }\n",
       "</style>\n",
       "<table border=\"1\" class=\"dataframe\">\n",
       "  <thead>\n",
       "    <tr style=\"text-align: right;\">\n",
       "      <th></th>\n",
       "      <th>ride_id</th>\n",
       "      <th>rideable_type</th>\n",
       "      <th>started_at</th>\n",
       "      <th>ended_at</th>\n",
       "      <th>start_station_name</th>\n",
       "      <th>start_station_id</th>\n",
       "      <th>end_station_name</th>\n",
       "      <th>end_station_id</th>\n",
       "      <th>start_lat</th>\n",
       "      <th>start_lng</th>\n",
       "      <th>end_lat</th>\n",
       "      <th>end_lng</th>\n",
       "      <th>member_casual</th>\n",
       "    </tr>\n",
       "  </thead>\n",
       "  <tbody>\n",
       "    <tr>\n",
       "      <th>0</th>\n",
       "      <td>C2F7DD78E82EC875</td>\n",
       "      <td>electric_bike</td>\n",
       "      <td>2022-01-13 11:59:47</td>\n",
       "      <td>2022-01-13 12:02:44</td>\n",
       "      <td>Glenwood Ave &amp; Touhy Ave</td>\n",
       "      <td>525</td>\n",
       "      <td>Clark St &amp; Touhy Ave</td>\n",
       "      <td>RP-007</td>\n",
       "      <td>42.012800</td>\n",
       "      <td>-87.665906</td>\n",
       "      <td>42.012560</td>\n",
       "      <td>-87.674367</td>\n",
       "      <td>casual</td>\n",
       "    </tr>\n",
       "    <tr>\n",
       "      <th>1</th>\n",
       "      <td>A6CF8980A652D272</td>\n",
       "      <td>electric_bike</td>\n",
       "      <td>2022-01-10 08:41:56</td>\n",
       "      <td>2022-01-10 08:46:17</td>\n",
       "      <td>Glenwood Ave &amp; Touhy Ave</td>\n",
       "      <td>525</td>\n",
       "      <td>Clark St &amp; Touhy Ave</td>\n",
       "      <td>RP-007</td>\n",
       "      <td>42.012763</td>\n",
       "      <td>-87.665967</td>\n",
       "      <td>42.012560</td>\n",
       "      <td>-87.674367</td>\n",
       "      <td>casual</td>\n",
       "    </tr>\n",
       "    <tr>\n",
       "      <th>2</th>\n",
       "      <td>BD0F91DFF741C66D</td>\n",
       "      <td>classic_bike</td>\n",
       "      <td>2022-01-25 04:53:40</td>\n",
       "      <td>2022-01-25 04:58:01</td>\n",
       "      <td>Sheffield Ave &amp; Fullerton Ave</td>\n",
       "      <td>TA1306000016</td>\n",
       "      <td>Greenview Ave &amp; Fullerton Ave</td>\n",
       "      <td>TA1307000001</td>\n",
       "      <td>41.925602</td>\n",
       "      <td>-87.653708</td>\n",
       "      <td>41.925330</td>\n",
       "      <td>-87.665800</td>\n",
       "      <td>member</td>\n",
       "    </tr>\n",
       "    <tr>\n",
       "      <th>3</th>\n",
       "      <td>CBB80ED419105406</td>\n",
       "      <td>classic_bike</td>\n",
       "      <td>2022-01-04 00:18:04</td>\n",
       "      <td>2022-01-04 00:33:00</td>\n",
       "      <td>Clark St &amp; Bryn Mawr Ave</td>\n",
       "      <td>KA1504000151</td>\n",
       "      <td>Paulina St &amp; Montrose Ave</td>\n",
       "      <td>TA1309000021</td>\n",
       "      <td>41.983593</td>\n",
       "      <td>-87.669154</td>\n",
       "      <td>41.961507</td>\n",
       "      <td>-87.671387</td>\n",
       "      <td>casual</td>\n",
       "    </tr>\n",
       "    <tr>\n",
       "      <th>4</th>\n",
       "      <td>DDC963BFDDA51EEA</td>\n",
       "      <td>classic_bike</td>\n",
       "      <td>2022-01-20 01:31:10</td>\n",
       "      <td>2022-01-20 01:37:12</td>\n",
       "      <td>Michigan Ave &amp; Jackson Blvd</td>\n",
       "      <td>TA1309000002</td>\n",
       "      <td>State St &amp; Randolph St</td>\n",
       "      <td>TA1305000029</td>\n",
       "      <td>41.877850</td>\n",
       "      <td>-87.624080</td>\n",
       "      <td>41.884621</td>\n",
       "      <td>-87.627834</td>\n",
       "      <td>member</td>\n",
       "    </tr>\n",
       "    <tr>\n",
       "      <th>...</th>\n",
       "      <td>...</td>\n",
       "      <td>...</td>\n",
       "      <td>...</td>\n",
       "      <td>...</td>\n",
       "      <td>...</td>\n",
       "      <td>...</td>\n",
       "      <td>...</td>\n",
       "      <td>...</td>\n",
       "      <td>...</td>\n",
       "      <td>...</td>\n",
       "      <td>...</td>\n",
       "      <td>...</td>\n",
       "      <td>...</td>\n",
       "    </tr>\n",
       "    <tr>\n",
       "      <th>181801</th>\n",
       "      <td>43ABEE85B6E15DCA</td>\n",
       "      <td>classic_bike</td>\n",
       "      <td>2022-12-05 06:51:04</td>\n",
       "      <td>2022-12-05 06:54:48</td>\n",
       "      <td>Sangamon St &amp; Washington Blvd</td>\n",
       "      <td>13409</td>\n",
       "      <td>Peoria St &amp; Jackson Blvd</td>\n",
       "      <td>13158</td>\n",
       "      <td>41.883165</td>\n",
       "      <td>-87.651100</td>\n",
       "      <td>41.877642</td>\n",
       "      <td>-87.649618</td>\n",
       "      <td>member</td>\n",
       "    </tr>\n",
       "    <tr>\n",
       "      <th>181802</th>\n",
       "      <td>F041C89A3D1F0270</td>\n",
       "      <td>electric_bike</td>\n",
       "      <td>2022-12-14 17:06:28</td>\n",
       "      <td>2022-12-14 17:19:27</td>\n",
       "      <td>Bernard St &amp; Elston Ave</td>\n",
       "      <td>18016</td>\n",
       "      <td>Seeley Ave &amp; Roscoe St</td>\n",
       "      <td>13144</td>\n",
       "      <td>41.949980</td>\n",
       "      <td>-87.714019</td>\n",
       "      <td>41.943403</td>\n",
       "      <td>-87.679618</td>\n",
       "      <td>member</td>\n",
       "    </tr>\n",
       "    <tr>\n",
       "      <th>181803</th>\n",
       "      <td>A2BECB88430BE156</td>\n",
       "      <td>classic_bike</td>\n",
       "      <td>2022-12-08 16:27:47</td>\n",
       "      <td>2022-12-08 16:32:20</td>\n",
       "      <td>Wacker Dr &amp; Washington St</td>\n",
       "      <td>KA1503000072</td>\n",
       "      <td>Green St &amp; Madison St</td>\n",
       "      <td>TA1307000120</td>\n",
       "      <td>41.883143</td>\n",
       "      <td>-87.637242</td>\n",
       "      <td>41.881859</td>\n",
       "      <td>-87.649264</td>\n",
       "      <td>member</td>\n",
       "    </tr>\n",
       "    <tr>\n",
       "      <th>181804</th>\n",
       "      <td>37B392960E566F58</td>\n",
       "      <td>classic_bike</td>\n",
       "      <td>2022-12-28 09:37:38</td>\n",
       "      <td>2022-12-28 09:41:34</td>\n",
       "      <td>Sangamon St &amp; Washington Blvd</td>\n",
       "      <td>13409</td>\n",
       "      <td>Peoria St &amp; Jackson Blvd</td>\n",
       "      <td>13158</td>\n",
       "      <td>41.883165</td>\n",
       "      <td>-87.651100</td>\n",
       "      <td>41.877642</td>\n",
       "      <td>-87.649618</td>\n",
       "      <td>member</td>\n",
       "    </tr>\n",
       "    <tr>\n",
       "      <th>181805</th>\n",
       "      <td>2DD1587210BA45AE</td>\n",
       "      <td>classic_bike</td>\n",
       "      <td>2022-12-09 00:27:25</td>\n",
       "      <td>2022-12-09 00:35:28</td>\n",
       "      <td>Southport Ave &amp; Waveland Ave</td>\n",
       "      <td>13235</td>\n",
       "      <td>Seeley Ave &amp; Roscoe St</td>\n",
       "      <td>13144</td>\n",
       "      <td>41.948150</td>\n",
       "      <td>-87.663940</td>\n",
       "      <td>41.943403</td>\n",
       "      <td>-87.679618</td>\n",
       "      <td>casual</td>\n",
       "    </tr>\n",
       "  </tbody>\n",
       "</table>\n",
       "<p>5667717 rows × 13 columns</p>\n",
       "</div>"
      ],
      "text/plain": [
       "                 ride_id  rideable_type           started_at  \\\n",
       "0       C2F7DD78E82EC875  electric_bike  2022-01-13 11:59:47   \n",
       "1       A6CF8980A652D272  electric_bike  2022-01-10 08:41:56   \n",
       "2       BD0F91DFF741C66D   classic_bike  2022-01-25 04:53:40   \n",
       "3       CBB80ED419105406   classic_bike  2022-01-04 00:18:04   \n",
       "4       DDC963BFDDA51EEA   classic_bike  2022-01-20 01:31:10   \n",
       "...                  ...            ...                  ...   \n",
       "181801  43ABEE85B6E15DCA   classic_bike  2022-12-05 06:51:04   \n",
       "181802  F041C89A3D1F0270  electric_bike  2022-12-14 17:06:28   \n",
       "181803  A2BECB88430BE156   classic_bike  2022-12-08 16:27:47   \n",
       "181804  37B392960E566F58   classic_bike  2022-12-28 09:37:38   \n",
       "181805  2DD1587210BA45AE   classic_bike  2022-12-09 00:27:25   \n",
       "\n",
       "                   ended_at             start_station_name start_station_id  \\\n",
       "0       2022-01-13 12:02:44       Glenwood Ave & Touhy Ave              525   \n",
       "1       2022-01-10 08:46:17       Glenwood Ave & Touhy Ave              525   \n",
       "2       2022-01-25 04:58:01  Sheffield Ave & Fullerton Ave     TA1306000016   \n",
       "3       2022-01-04 00:33:00       Clark St & Bryn Mawr Ave     KA1504000151   \n",
       "4       2022-01-20 01:37:12    Michigan Ave & Jackson Blvd     TA1309000002   \n",
       "...                     ...                            ...              ...   \n",
       "181801  2022-12-05 06:54:48  Sangamon St & Washington Blvd            13409   \n",
       "181802  2022-12-14 17:19:27        Bernard St & Elston Ave            18016   \n",
       "181803  2022-12-08 16:32:20      Wacker Dr & Washington St     KA1503000072   \n",
       "181804  2022-12-28 09:41:34  Sangamon St & Washington Blvd            13409   \n",
       "181805  2022-12-09 00:35:28   Southport Ave & Waveland Ave            13235   \n",
       "\n",
       "                     end_station_name end_station_id  start_lat  start_lng  \\\n",
       "0                Clark St & Touhy Ave         RP-007  42.012800 -87.665906   \n",
       "1                Clark St & Touhy Ave         RP-007  42.012763 -87.665967   \n",
       "2       Greenview Ave & Fullerton Ave   TA1307000001  41.925602 -87.653708   \n",
       "3           Paulina St & Montrose Ave   TA1309000021  41.983593 -87.669154   \n",
       "4              State St & Randolph St   TA1305000029  41.877850 -87.624080   \n",
       "...                               ...            ...        ...        ...   \n",
       "181801       Peoria St & Jackson Blvd          13158  41.883165 -87.651100   \n",
       "181802         Seeley Ave & Roscoe St          13144  41.949980 -87.714019   \n",
       "181803          Green St & Madison St   TA1307000120  41.883143 -87.637242   \n",
       "181804       Peoria St & Jackson Blvd          13158  41.883165 -87.651100   \n",
       "181805         Seeley Ave & Roscoe St          13144  41.948150 -87.663940   \n",
       "\n",
       "          end_lat    end_lng member_casual  \n",
       "0       42.012560 -87.674367        casual  \n",
       "1       42.012560 -87.674367        casual  \n",
       "2       41.925330 -87.665800        member  \n",
       "3       41.961507 -87.671387        casual  \n",
       "4       41.884621 -87.627834        member  \n",
       "...           ...        ...           ...  \n",
       "181801  41.877642 -87.649618        member  \n",
       "181802  41.943403 -87.679618        member  \n",
       "181803  41.881859 -87.649264        member  \n",
       "181804  41.877642 -87.649618        member  \n",
       "181805  41.943403 -87.679618        casual  \n",
       "\n",
       "[5667717 rows x 13 columns]"
      ]
     },
     "execution_count": 74,
     "metadata": {},
     "output_type": "execute_result"
    }
   ],
   "source": [
    "#Varifying mergerd Files \n",
    "case_file_5000 = df\n",
    "case_file_5000"
   ]
  },
  {
   "cell_type": "code",
   "execution_count": 78,
   "id": "c1ef87a5",
   "metadata": {},
   "outputs": [
    {
     "name": "stdout",
     "output_type": "stream",
     "text": [
      "<class 'pandas.core.frame.DataFrame'>\n",
      "Int64Index: 5667717 entries, 0 to 181805\n",
      "Data columns (total 16 columns):\n",
      " #   Column              Dtype          \n",
      "---  ------              -----          \n",
      " 0   ride_id             object         \n",
      " 1   rideable_type       object         \n",
      " 2   started_at          object         \n",
      " 3   ended_at            object         \n",
      " 4   start_station_name  object         \n",
      " 5   start_station_id    object         \n",
      " 6   end_station_name    object         \n",
      " 7   end_station_id      object         \n",
      " 8   start_lat           float64        \n",
      " 9   start_lng           float64        \n",
      " 10  end_lat             float64        \n",
      " 11  end_lng             float64        \n",
      " 12  member_casual       object         \n",
      " 13  start_time          datetime64[ns] \n",
      " 14  end_time            datetime64[ns] \n",
      " 15  ride_length         timedelta64[ns]\n",
      "dtypes: datetime64[ns](2), float64(4), object(9), timedelta64[ns](1)\n",
      "memory usage: 735.1+ MB\n"
     ]
    }
   ],
   "source": [
    "# To get information about the dataframe.\n",
    "\n",
    "case_file_5000.info()"
   ]
  },
  {
   "cell_type": "code",
   "execution_count": 84,
   "id": "5989a585",
   "metadata": {},
   "outputs": [],
   "source": [
    "#To convert object data type of start_time and end_time columns into datetime data type\n",
    "\n",
    "case_file_5000[\"start_time\"] = pd.to_datetime(case_file_5000[\"started_at\"])\n",
    "case_file_5000[\"end_time\"] = pd.to_datetime(case_file_5000[\"ended_at\"])"
   ]
  },
  {
   "cell_type": "code",
   "execution_count": 85,
   "id": "9e777de7",
   "metadata": {},
   "outputs": [
    {
     "data": {
      "text/plain": [
       "0        0 days 00:02:57\n",
       "1        0 days 00:04:21\n",
       "2        0 days 00:04:21\n",
       "3        0 days 00:14:56\n",
       "4        0 days 00:06:02\n",
       "               ...      \n",
       "181801   0 days 00:03:44\n",
       "181802   0 days 00:12:59\n",
       "181803   0 days 00:04:33\n",
       "181804   0 days 00:03:56\n",
       "181805   0 days 00:08:03\n",
       "Name: ride_length, Length: 5667717, dtype: timedelta64[ns]"
      ]
     },
     "execution_count": 85,
     "metadata": {},
     "output_type": "execute_result"
    }
   ],
   "source": [
    "#Adding new column - ride_length (ended_at - started_at) to calculate the time travelled\n",
    "\n",
    "case_file_5000[\"ride_length\"] = case_file_5000[\"end_time\"] - case_file_5000[\"start_time\"]\n",
    "case_file_5000[\"ride_length\"]\n"
   ]
  },
  {
   "cell_type": "code",
   "execution_count": 86,
   "id": "76aca09b",
   "metadata": {},
   "outputs": [
    {
     "data": {
      "text/plain": [
       "0         2022-01-13\n",
       "1         2022-01-10\n",
       "2         2022-01-25\n",
       "3         2022-01-04\n",
       "4         2022-01-20\n",
       "             ...    \n",
       "181801    2022-12-05\n",
       "181802    2022-12-14\n",
       "181803    2022-12-08\n",
       "181804    2022-12-28\n",
       "181805    2022-12-09\n",
       "Name: start_date1, Length: 5667717, dtype: object"
      ]
     },
     "execution_count": 86,
     "metadata": {},
     "output_type": "execute_result"
    }
   ],
   "source": [
    "# Splitting and extracting the date from \"started_at\" column\n",
    "\n",
    "case_file_5000[\"start_date1\"] = [i.split(\" \")[0] for i in case_file_5000[\"started_at\"]]\n",
    "case_file_5000[\"start_date1\"]"
   ]
  },
  {
   "cell_type": "code",
   "execution_count": 87,
   "id": "73797817",
   "metadata": {},
   "outputs": [],
   "source": [
    "# Converting start_date1 into datetime data type\n",
    "\n",
    "case_file_5000[\"start_date1\"] = pd.to_datetime(case_file_5000[\"start_date1\"])"
   ]
  },
  {
   "cell_type": "code",
   "execution_count": 88,
   "id": "120f20f7",
   "metadata": {},
   "outputs": [
    {
     "data": {
      "text/plain": [
       "array([3, 0, 1, 6, 5, 4, 2], dtype=int64)"
      ]
     },
     "execution_count": 88,
     "metadata": {},
     "output_type": "execute_result"
    }
   ],
   "source": [
    "# Finding the weekday of the date\n",
    "\n",
    "case_file_5000['week_day'] = case_file_5000[\"start_date1\"].apply(lambda x: x.weekday())\n",
    "case_file_5000['week_day'].unique()"
   ]
  },
  {
   "cell_type": "code",
   "execution_count": 89,
   "id": "c43e5d37",
   "metadata": {},
   "outputs": [
    {
     "data": {
      "text/plain": [
       "0         Wednesday\n",
       "1            Sunday\n",
       "2            Monday\n",
       "3            Monday\n",
       "4         Wednesday\n",
       "            ...    \n",
       "181801       Sunday\n",
       "181802      Tuesday\n",
       "181803    Wednesday\n",
       "181804      Tuesday\n",
       "181805     Thursday\n",
       "Name: week_day, Length: 5667717, dtype: object"
      ]
     },
     "execution_count": 89,
     "metadata": {},
     "output_type": "execute_result"
    }
   ],
   "source": [
    "# Converting weekday values into weekday\n",
    "dict1 = {0: \"Sunday\", 1: \"Monday\", 2: \"Tuesday\", 3: \"Wednesday\", 4: \"Thursday\", 5: \"Friday\", 6: \"Saturday\"}\n",
    "case_file_5000['week_day'] = case_file_5000['week_day'].apply(lambda y: dict1[y])\n",
    "case_file_5000['week_day']"
   ]
  },
  {
   "cell_type": "code",
   "execution_count": 90,
   "id": "a602c5a2",
   "metadata": {},
   "outputs": [],
   "source": [
    "# To sort the dataframe by start date in ascending order\n",
    "\n",
    "case_file_5000.sort_values(by=['started_at'], inplace=True, ascending=True)"
   ]
  },
  {
   "cell_type": "code",
   "execution_count": 91,
   "id": "5253255c",
   "metadata": {},
   "outputs": [],
   "source": [
    "# Drop all rows with any NaN values\n",
    "\n",
    "case_file_5000_cleaned = case_file_5000.dropna()"
   ]
  },
  {
   "cell_type": "code",
   "execution_count": 92,
   "id": "f49abb45",
   "metadata": {},
   "outputs": [],
   "source": [
    "# To save the cleaned file for further transformation of data\n",
    "case_file_5000_cleaned.to_csv('cleaned.csv')"
   ]
  },
  {
   "cell_type": "code",
   "execution_count": 93,
   "id": "d0ffbf15",
   "metadata": {},
   "outputs": [],
   "source": [
    "# To import the cleaned data file\n",
    "cleaned_file = pd.read_csv(\"cleaned.csv\")"
   ]
  },
  {
   "cell_type": "code",
   "execution_count": 94,
   "id": "84202639",
   "metadata": {},
   "outputs": [
    {
     "data": {
      "text/html": [
       "<div>\n",
       "<style scoped>\n",
       "    .dataframe tbody tr th:only-of-type {\n",
       "        vertical-align: middle;\n",
       "    }\n",
       "\n",
       "    .dataframe tbody tr th {\n",
       "        vertical-align: top;\n",
       "    }\n",
       "\n",
       "    .dataframe thead th {\n",
       "        text-align: right;\n",
       "    }\n",
       "</style>\n",
       "<table border=\"1\" class=\"dataframe\">\n",
       "  <thead>\n",
       "    <tr style=\"text-align: right;\">\n",
       "      <th></th>\n",
       "      <th>Unnamed: 0</th>\n",
       "      <th>ride_id</th>\n",
       "      <th>rideable_type</th>\n",
       "      <th>started_at</th>\n",
       "      <th>ended_at</th>\n",
       "      <th>start_station_name</th>\n",
       "      <th>start_station_id</th>\n",
       "      <th>end_station_name</th>\n",
       "      <th>end_station_id</th>\n",
       "      <th>start_lat</th>\n",
       "      <th>start_lng</th>\n",
       "      <th>end_lat</th>\n",
       "      <th>end_lng</th>\n",
       "      <th>member_casual</th>\n",
       "      <th>start_time</th>\n",
       "      <th>end_time</th>\n",
       "      <th>ride_length</th>\n",
       "      <th>start_date1</th>\n",
       "      <th>week_day</th>\n",
       "    </tr>\n",
       "  </thead>\n",
       "  <tbody>\n",
       "    <tr>\n",
       "      <th>0</th>\n",
       "      <td>73479</td>\n",
       "      <td>98D355D9A9852BE9</td>\n",
       "      <td>classic_bike</td>\n",
       "      <td>2022-01-01 00:00:05</td>\n",
       "      <td>2022-01-01 00:01:48</td>\n",
       "      <td>Michigan Ave &amp; 8th St</td>\n",
       "      <td>623</td>\n",
       "      <td>Michigan Ave &amp; 8th St</td>\n",
       "      <td>623</td>\n",
       "      <td>41.872773</td>\n",
       "      <td>-87.623981</td>\n",
       "      <td>41.872773</td>\n",
       "      <td>-87.623981</td>\n",
       "      <td>casual</td>\n",
       "      <td>2022-01-01 00:00:05</td>\n",
       "      <td>2022-01-01 00:01:48</td>\n",
       "      <td>0 days 00:01:43</td>\n",
       "      <td>2022-01-01 00:00:00</td>\n",
       "      <td>Friday</td>\n",
       "    </tr>\n",
       "    <tr>\n",
       "      <th>1</th>\n",
       "      <td>68510</td>\n",
       "      <td>04706CA7F5BD25EE</td>\n",
       "      <td>electric_bike</td>\n",
       "      <td>2022-01-01 00:01:00</td>\n",
       "      <td>2022-01-01 00:04:39</td>\n",
       "      <td>Broadway &amp; Waveland Ave</td>\n",
       "      <td>13325</td>\n",
       "      <td>Broadway &amp; Barry Ave</td>\n",
       "      <td>13137</td>\n",
       "      <td>41.949073</td>\n",
       "      <td>-87.648633</td>\n",
       "      <td>41.937582</td>\n",
       "      <td>-87.644098</td>\n",
       "      <td>casual</td>\n",
       "      <td>2022-01-01 00:01:00</td>\n",
       "      <td>2022-01-01 00:04:39</td>\n",
       "      <td>0 days 00:03:39</td>\n",
       "      <td>2022-01-01 00:00:00</td>\n",
       "      <td>Friday</td>\n",
       "    </tr>\n",
       "    <tr>\n",
       "      <th>2</th>\n",
       "      <td>64490</td>\n",
       "      <td>42178E850B92597A</td>\n",
       "      <td>electric_bike</td>\n",
       "      <td>2022-01-01 00:01:16</td>\n",
       "      <td>2022-01-01 00:32:14</td>\n",
       "      <td>Clark St &amp; Ida B Wells Dr</td>\n",
       "      <td>TA1305000009</td>\n",
       "      <td>Clark St &amp; Ida B Wells Dr</td>\n",
       "      <td>TA1305000009</td>\n",
       "      <td>41.875919</td>\n",
       "      <td>-87.631194</td>\n",
       "      <td>41.875933</td>\n",
       "      <td>-87.630585</td>\n",
       "      <td>casual</td>\n",
       "      <td>2022-01-01 00:01:16</td>\n",
       "      <td>2022-01-01 00:32:14</td>\n",
       "      <td>0 days 00:30:58</td>\n",
       "      <td>2022-01-01 00:00:00</td>\n",
       "      <td>Friday</td>\n",
       "    </tr>\n",
       "    <tr>\n",
       "      <th>3</th>\n",
       "      <td>73485</td>\n",
       "      <td>6B93C46E8F5B114C</td>\n",
       "      <td>classic_bike</td>\n",
       "      <td>2022-01-01 00:02:14</td>\n",
       "      <td>2022-01-01 00:31:07</td>\n",
       "      <td>Michigan Ave &amp; 8th St</td>\n",
       "      <td>623</td>\n",
       "      <td>Michigan Ave &amp; 8th St</td>\n",
       "      <td>623</td>\n",
       "      <td>41.872773</td>\n",
       "      <td>-87.623981</td>\n",
       "      <td>41.872773</td>\n",
       "      <td>-87.623981</td>\n",
       "      <td>casual</td>\n",
       "      <td>2022-01-01 00:02:14</td>\n",
       "      <td>2022-01-01 00:31:07</td>\n",
       "      <td>0 days 00:28:53</td>\n",
       "      <td>2022-01-01 00:00:00</td>\n",
       "      <td>Friday</td>\n",
       "    </tr>\n",
       "    <tr>\n",
       "      <th>4</th>\n",
       "      <td>73478</td>\n",
       "      <td>466943353EAC8022</td>\n",
       "      <td>classic_bike</td>\n",
       "      <td>2022-01-01 00:02:35</td>\n",
       "      <td>2022-01-01 00:31:04</td>\n",
       "      <td>Michigan Ave &amp; 8th St</td>\n",
       "      <td>623</td>\n",
       "      <td>Michigan Ave &amp; 8th St</td>\n",
       "      <td>623</td>\n",
       "      <td>41.872773</td>\n",
       "      <td>-87.623981</td>\n",
       "      <td>41.872773</td>\n",
       "      <td>-87.623981</td>\n",
       "      <td>casual</td>\n",
       "      <td>2022-01-01 00:02:35</td>\n",
       "      <td>2022-01-01 00:31:04</td>\n",
       "      <td>0 days 00:28:29</td>\n",
       "      <td>2022-01-01 00:00:00</td>\n",
       "      <td>Friday</td>\n",
       "    </tr>\n",
       "    <tr>\n",
       "      <th>...</th>\n",
       "      <td>...</td>\n",
       "      <td>...</td>\n",
       "      <td>...</td>\n",
       "      <td>...</td>\n",
       "      <td>...</td>\n",
       "      <td>...</td>\n",
       "      <td>...</td>\n",
       "      <td>...</td>\n",
       "      <td>...</td>\n",
       "      <td>...</td>\n",
       "      <td>...</td>\n",
       "      <td>...</td>\n",
       "      <td>...</td>\n",
       "      <td>...</td>\n",
       "      <td>...</td>\n",
       "      <td>...</td>\n",
       "      <td>...</td>\n",
       "      <td>...</td>\n",
       "      <td>...</td>\n",
       "    </tr>\n",
       "    <tr>\n",
       "      <th>4369355</th>\n",
       "      <td>4140</td>\n",
       "      <td>78090C14B6003F5D</td>\n",
       "      <td>classic_bike</td>\n",
       "      <td>2022-12-31 23:57:18</td>\n",
       "      <td>2023-01-01 00:21:40</td>\n",
       "      <td>Wabash Ave &amp; 9th St</td>\n",
       "      <td>TA1309000010</td>\n",
       "      <td>Clark St &amp; Elm St</td>\n",
       "      <td>TA1307000039</td>\n",
       "      <td>41.870769</td>\n",
       "      <td>-87.625734</td>\n",
       "      <td>41.902973</td>\n",
       "      <td>-87.631280</td>\n",
       "      <td>member</td>\n",
       "      <td>2022-12-31 23:57:18</td>\n",
       "      <td>2023-01-01 00:21:40</td>\n",
       "      <td>0 days 00:24:22</td>\n",
       "      <td>2022-12-31 00:00:00</td>\n",
       "      <td>Friday</td>\n",
       "    </tr>\n",
       "    <tr>\n",
       "      <th>4369356</th>\n",
       "      <td>166964</td>\n",
       "      <td>207B82AF834747FD</td>\n",
       "      <td>electric_bike</td>\n",
       "      <td>2022-12-31 23:58:01</td>\n",
       "      <td>2023-01-01 00:06:40</td>\n",
       "      <td>Damen Ave &amp; Thomas St (Augusta Blvd)</td>\n",
       "      <td>TA1307000070</td>\n",
       "      <td>Troy St &amp; North Ave</td>\n",
       "      <td>15653</td>\n",
       "      <td>41.901250</td>\n",
       "      <td>-87.677353</td>\n",
       "      <td>41.909769</td>\n",
       "      <td>-87.705280</td>\n",
       "      <td>casual</td>\n",
       "      <td>2022-12-31 23:58:01</td>\n",
       "      <td>2023-01-01 00:06:40</td>\n",
       "      <td>0 days 00:08:39</td>\n",
       "      <td>2022-12-31 00:00:00</td>\n",
       "      <td>Friday</td>\n",
       "    </tr>\n",
       "    <tr>\n",
       "      <th>4369357</th>\n",
       "      <td>148852</td>\n",
       "      <td>390512AD1B791E95</td>\n",
       "      <td>classic_bike</td>\n",
       "      <td>2022-12-31 23:58:41</td>\n",
       "      <td>2023-01-01 00:16:53</td>\n",
       "      <td>Indiana Ave &amp; Roosevelt Rd</td>\n",
       "      <td>SL-005</td>\n",
       "      <td>Indiana Ave &amp; Roosevelt Rd</td>\n",
       "      <td>SL-005</td>\n",
       "      <td>41.867888</td>\n",
       "      <td>-87.623041</td>\n",
       "      <td>41.867888</td>\n",
       "      <td>-87.623041</td>\n",
       "      <td>casual</td>\n",
       "      <td>2022-12-31 23:58:41</td>\n",
       "      <td>2023-01-01 00:16:53</td>\n",
       "      <td>0 days 00:18:12</td>\n",
       "      <td>2022-12-31 00:00:00</td>\n",
       "      <td>Friday</td>\n",
       "    </tr>\n",
       "    <tr>\n",
       "      <th>4369358</th>\n",
       "      <td>148996</td>\n",
       "      <td>017486468322F08A</td>\n",
       "      <td>electric_bike</td>\n",
       "      <td>2022-12-31 23:59:01</td>\n",
       "      <td>2023-01-01 00:16:50</td>\n",
       "      <td>Indiana Ave &amp; Roosevelt Rd</td>\n",
       "      <td>SL-005</td>\n",
       "      <td>Indiana Ave &amp; Roosevelt Rd</td>\n",
       "      <td>SL-005</td>\n",
       "      <td>41.868109</td>\n",
       "      <td>-87.623071</td>\n",
       "      <td>41.867888</td>\n",
       "      <td>-87.623041</td>\n",
       "      <td>member</td>\n",
       "      <td>2022-12-31 23:59:01</td>\n",
       "      <td>2023-01-01 00:16:50</td>\n",
       "      <td>0 days 00:17:49</td>\n",
       "      <td>2022-12-31 00:00:00</td>\n",
       "      <td>Friday</td>\n",
       "    </tr>\n",
       "    <tr>\n",
       "      <th>4369359</th>\n",
       "      <td>96680</td>\n",
       "      <td>C4F7BB2F10637EA0</td>\n",
       "      <td>electric_bike</td>\n",
       "      <td>2022-12-31 23:59:26</td>\n",
       "      <td>2023-01-01 00:01:54</td>\n",
       "      <td>Drake Ave &amp; Addison St</td>\n",
       "      <td>KA1504000142</td>\n",
       "      <td>Monticello Ave &amp; Irving Park Rd</td>\n",
       "      <td>KA1504000139</td>\n",
       "      <td>41.947421</td>\n",
       "      <td>-87.717623</td>\n",
       "      <td>41.954005</td>\n",
       "      <td>-87.719128</td>\n",
       "      <td>member</td>\n",
       "      <td>2022-12-31 23:59:26</td>\n",
       "      <td>2023-01-01 00:01:54</td>\n",
       "      <td>0 days 00:02:28</td>\n",
       "      <td>2022-12-31 00:00:00</td>\n",
       "      <td>Friday</td>\n",
       "    </tr>\n",
       "  </tbody>\n",
       "</table>\n",
       "<p>4369360 rows × 19 columns</p>\n",
       "</div>"
      ],
      "text/plain": [
       "         Unnamed: 0           ride_id  rideable_type           started_at  \\\n",
       "0             73479  98D355D9A9852BE9   classic_bike  2022-01-01 00:00:05   \n",
       "1             68510  04706CA7F5BD25EE  electric_bike  2022-01-01 00:01:00   \n",
       "2             64490  42178E850B92597A  electric_bike  2022-01-01 00:01:16   \n",
       "3             73485  6B93C46E8F5B114C   classic_bike  2022-01-01 00:02:14   \n",
       "4             73478  466943353EAC8022   classic_bike  2022-01-01 00:02:35   \n",
       "...             ...               ...            ...                  ...   \n",
       "4369355        4140  78090C14B6003F5D   classic_bike  2022-12-31 23:57:18   \n",
       "4369356      166964  207B82AF834747FD  electric_bike  2022-12-31 23:58:01   \n",
       "4369357      148852  390512AD1B791E95   classic_bike  2022-12-31 23:58:41   \n",
       "4369358      148996  017486468322F08A  electric_bike  2022-12-31 23:59:01   \n",
       "4369359       96680  C4F7BB2F10637EA0  electric_bike  2022-12-31 23:59:26   \n",
       "\n",
       "                    ended_at                    start_station_name  \\\n",
       "0        2022-01-01 00:01:48                 Michigan Ave & 8th St   \n",
       "1        2022-01-01 00:04:39               Broadway & Waveland Ave   \n",
       "2        2022-01-01 00:32:14             Clark St & Ida B Wells Dr   \n",
       "3        2022-01-01 00:31:07                 Michigan Ave & 8th St   \n",
       "4        2022-01-01 00:31:04                 Michigan Ave & 8th St   \n",
       "...                      ...                                   ...   \n",
       "4369355  2023-01-01 00:21:40                   Wabash Ave & 9th St   \n",
       "4369356  2023-01-01 00:06:40  Damen Ave & Thomas St (Augusta Blvd)   \n",
       "4369357  2023-01-01 00:16:53            Indiana Ave & Roosevelt Rd   \n",
       "4369358  2023-01-01 00:16:50            Indiana Ave & Roosevelt Rd   \n",
       "4369359  2023-01-01 00:01:54                Drake Ave & Addison St   \n",
       "\n",
       "        start_station_id                 end_station_name end_station_id  \\\n",
       "0                    623            Michigan Ave & 8th St            623   \n",
       "1                  13325             Broadway & Barry Ave          13137   \n",
       "2           TA1305000009        Clark St & Ida B Wells Dr   TA1305000009   \n",
       "3                    623            Michigan Ave & 8th St            623   \n",
       "4                    623            Michigan Ave & 8th St            623   \n",
       "...                  ...                              ...            ...   \n",
       "4369355     TA1309000010                Clark St & Elm St   TA1307000039   \n",
       "4369356     TA1307000070              Troy St & North Ave          15653   \n",
       "4369357           SL-005       Indiana Ave & Roosevelt Rd         SL-005   \n",
       "4369358           SL-005       Indiana Ave & Roosevelt Rd         SL-005   \n",
       "4369359     KA1504000142  Monticello Ave & Irving Park Rd   KA1504000139   \n",
       "\n",
       "         start_lat  start_lng    end_lat    end_lng member_casual  \\\n",
       "0        41.872773 -87.623981  41.872773 -87.623981        casual   \n",
       "1        41.949073 -87.648633  41.937582 -87.644098        casual   \n",
       "2        41.875919 -87.631194  41.875933 -87.630585        casual   \n",
       "3        41.872773 -87.623981  41.872773 -87.623981        casual   \n",
       "4        41.872773 -87.623981  41.872773 -87.623981        casual   \n",
       "...            ...        ...        ...        ...           ...   \n",
       "4369355  41.870769 -87.625734  41.902973 -87.631280        member   \n",
       "4369356  41.901250 -87.677353  41.909769 -87.705280        casual   \n",
       "4369357  41.867888 -87.623041  41.867888 -87.623041        casual   \n",
       "4369358  41.868109 -87.623071  41.867888 -87.623041        member   \n",
       "4369359  41.947421 -87.717623  41.954005 -87.719128        member   \n",
       "\n",
       "                  start_time             end_time      ride_length  \\\n",
       "0        2022-01-01 00:00:05  2022-01-01 00:01:48  0 days 00:01:43   \n",
       "1        2022-01-01 00:01:00  2022-01-01 00:04:39  0 days 00:03:39   \n",
       "2        2022-01-01 00:01:16  2022-01-01 00:32:14  0 days 00:30:58   \n",
       "3        2022-01-01 00:02:14  2022-01-01 00:31:07  0 days 00:28:53   \n",
       "4        2022-01-01 00:02:35  2022-01-01 00:31:04  0 days 00:28:29   \n",
       "...                      ...                  ...              ...   \n",
       "4369355  2022-12-31 23:57:18  2023-01-01 00:21:40  0 days 00:24:22   \n",
       "4369356  2022-12-31 23:58:01  2023-01-01 00:06:40  0 days 00:08:39   \n",
       "4369357  2022-12-31 23:58:41  2023-01-01 00:16:53  0 days 00:18:12   \n",
       "4369358  2022-12-31 23:59:01  2023-01-01 00:16:50  0 days 00:17:49   \n",
       "4369359  2022-12-31 23:59:26  2023-01-01 00:01:54  0 days 00:02:28   \n",
       "\n",
       "                 start_date1 week_day  \n",
       "0        2022-01-01 00:00:00   Friday  \n",
       "1        2022-01-01 00:00:00   Friday  \n",
       "2        2022-01-01 00:00:00   Friday  \n",
       "3        2022-01-01 00:00:00   Friday  \n",
       "4        2022-01-01 00:00:00   Friday  \n",
       "...                      ...      ...  \n",
       "4369355  2022-12-31 00:00:00   Friday  \n",
       "4369356  2022-12-31 00:00:00   Friday  \n",
       "4369357  2022-12-31 00:00:00   Friday  \n",
       "4369358  2022-12-31 00:00:00   Friday  \n",
       "4369359  2022-12-31 00:00:00   Friday  \n",
       "\n",
       "[4369360 rows x 19 columns]"
      ]
     },
     "execution_count": 94,
     "metadata": {},
     "output_type": "execute_result"
    }
   ],
   "source": [
    "# Print the cleaned dataframe\n",
    "cleaned_file"
   ]
  },
  {
   "cell_type": "code",
   "execution_count": 95,
   "id": "f5b1c916",
   "metadata": {},
   "outputs": [
    {
     "data": {
      "text/plain": [
       "0          0.000000\n",
       "1          0.012353\n",
       "2          0.000609\n",
       "3          0.000000\n",
       "4          0.000000\n",
       "             ...   \n",
       "4369355    0.032678\n",
       "4369356    0.029198\n",
       "4369357    0.000000\n",
       "4369358    0.000223\n",
       "4369359    0.006754\n",
       "Name: distance, Length: 4369360, dtype: float64"
      ]
     },
     "execution_count": 95,
     "metadata": {},
     "output_type": "execute_result"
    }
   ],
   "source": [
    "# To calculate euclidean distance between start and end point.\n",
    "\n",
    "cleaned_file[\"x\"] = (cleaned_file[\"end_lat\"] - cleaned_file[\"start_lat\"])**2\n",
    "cleaned_file[\"y\"] = (cleaned_file[\"end_lng\"] - cleaned_file[\"start_lng\"])**2\n",
    "cleaned_file[\"distance\"] = (cleaned_file[\"x\"] + cleaned_file[\"y\"])**(1/2)\n",
    "cleaned_file[\"distance\"]"
   ]
  },
  {
   "cell_type": "code",
   "execution_count": 96,
   "id": "58ff4818",
   "metadata": {},
   "outputs": [],
   "source": [
    "# To extract year and month from start date column\n",
    "\n",
    "cleaned_file['year'] = pd.DatetimeIndex(cleaned_file[\"start_date1\"]).year\n",
    "cleaned_file['month'] = pd.DatetimeIndex(cleaned_file[\"start_date1\"]).month"
   ]
  },
  {
   "cell_type": "code",
   "execution_count": 97,
   "id": "6fa9ead3",
   "metadata": {},
   "outputs": [],
   "source": [
    "# To convert object datatype to timedelta\n",
    "cleaned_file[\"ride_len\"] = pd.to_timedelta(cleaned_file[\"ride_length\"])"
   ]
  },
  {
   "cell_type": "code",
   "execution_count": 98,
   "id": "08924f38",
   "metadata": {},
   "outputs": [
    {
     "data": {
      "text/html": [
       "<div>\n",
       "<style scoped>\n",
       "    .dataframe tbody tr th:only-of-type {\n",
       "        vertical-align: middle;\n",
       "    }\n",
       "\n",
       "    .dataframe tbody tr th {\n",
       "        vertical-align: top;\n",
       "    }\n",
       "\n",
       "    .dataframe thead th {\n",
       "        text-align: right;\n",
       "    }\n",
       "</style>\n",
       "<table border=\"1\" class=\"dataframe\">\n",
       "  <thead>\n",
       "    <tr style=\"text-align: right;\">\n",
       "      <th></th>\n",
       "      <th>Unnamed: 0</th>\n",
       "      <th>ride_id</th>\n",
       "      <th>rideable_type</th>\n",
       "      <th>started_at</th>\n",
       "      <th>ended_at</th>\n",
       "      <th>start_station_name</th>\n",
       "      <th>start_station_id</th>\n",
       "      <th>end_station_name</th>\n",
       "      <th>end_station_id</th>\n",
       "      <th>start_lat</th>\n",
       "      <th>...</th>\n",
       "      <th>end_time</th>\n",
       "      <th>ride_length</th>\n",
       "      <th>start_date1</th>\n",
       "      <th>week_day</th>\n",
       "      <th>x</th>\n",
       "      <th>y</th>\n",
       "      <th>distance</th>\n",
       "      <th>year</th>\n",
       "      <th>month</th>\n",
       "      <th>ride_len</th>\n",
       "    </tr>\n",
       "  </thead>\n",
       "  <tbody>\n",
       "    <tr>\n",
       "      <th>0</th>\n",
       "      <td>73479</td>\n",
       "      <td>98D355D9A9852BE9</td>\n",
       "      <td>classic_bike</td>\n",
       "      <td>2022-01-01 00:00:05</td>\n",
       "      <td>2022-01-01 00:01:48</td>\n",
       "      <td>Michigan Ave &amp; 8th St</td>\n",
       "      <td>623</td>\n",
       "      <td>Michigan Ave &amp; 8th St</td>\n",
       "      <td>623</td>\n",
       "      <td>41.872773</td>\n",
       "      <td>...</td>\n",
       "      <td>2022-01-01 00:01:48</td>\n",
       "      <td>0 days 00:01:43</td>\n",
       "      <td>2022-01-01 00:00:00</td>\n",
       "      <td>Friday</td>\n",
       "      <td>0.000000e+00</td>\n",
       "      <td>0.000000e+00</td>\n",
       "      <td>0.000000</td>\n",
       "      <td>2022</td>\n",
       "      <td>1</td>\n",
       "      <td>0 days 00:01:43</td>\n",
       "    </tr>\n",
       "    <tr>\n",
       "      <th>1</th>\n",
       "      <td>68510</td>\n",
       "      <td>04706CA7F5BD25EE</td>\n",
       "      <td>electric_bike</td>\n",
       "      <td>2022-01-01 00:01:00</td>\n",
       "      <td>2022-01-01 00:04:39</td>\n",
       "      <td>Broadway &amp; Waveland Ave</td>\n",
       "      <td>13325</td>\n",
       "      <td>Broadway &amp; Barry Ave</td>\n",
       "      <td>13137</td>\n",
       "      <td>41.949073</td>\n",
       "      <td>...</td>\n",
       "      <td>2022-01-01 00:04:39</td>\n",
       "      <td>0 days 00:03:39</td>\n",
       "      <td>2022-01-01 00:00:00</td>\n",
       "      <td>Friday</td>\n",
       "      <td>1.320396e-04</td>\n",
       "      <td>2.056648e-05</td>\n",
       "      <td>0.012353</td>\n",
       "      <td>2022</td>\n",
       "      <td>1</td>\n",
       "      <td>0 days 00:03:39</td>\n",
       "    </tr>\n",
       "    <tr>\n",
       "      <th>2</th>\n",
       "      <td>64490</td>\n",
       "      <td>42178E850B92597A</td>\n",
       "      <td>electric_bike</td>\n",
       "      <td>2022-01-01 00:01:16</td>\n",
       "      <td>2022-01-01 00:32:14</td>\n",
       "      <td>Clark St &amp; Ida B Wells Dr</td>\n",
       "      <td>TA1305000009</td>\n",
       "      <td>Clark St &amp; Ida B Wells Dr</td>\n",
       "      <td>TA1305000009</td>\n",
       "      <td>41.875919</td>\n",
       "      <td>...</td>\n",
       "      <td>2022-01-01 00:32:14</td>\n",
       "      <td>0 days 00:30:58</td>\n",
       "      <td>2022-01-01 00:00:00</td>\n",
       "      <td>Friday</td>\n",
       "      <td>1.822185e-10</td>\n",
       "      <td>3.712438e-07</td>\n",
       "      <td>0.000609</td>\n",
       "      <td>2022</td>\n",
       "      <td>1</td>\n",
       "      <td>0 days 00:30:58</td>\n",
       "    </tr>\n",
       "    <tr>\n",
       "      <th>3</th>\n",
       "      <td>73485</td>\n",
       "      <td>6B93C46E8F5B114C</td>\n",
       "      <td>classic_bike</td>\n",
       "      <td>2022-01-01 00:02:14</td>\n",
       "      <td>2022-01-01 00:31:07</td>\n",
       "      <td>Michigan Ave &amp; 8th St</td>\n",
       "      <td>623</td>\n",
       "      <td>Michigan Ave &amp; 8th St</td>\n",
       "      <td>623</td>\n",
       "      <td>41.872773</td>\n",
       "      <td>...</td>\n",
       "      <td>2022-01-01 00:31:07</td>\n",
       "      <td>0 days 00:28:53</td>\n",
       "      <td>2022-01-01 00:00:00</td>\n",
       "      <td>Friday</td>\n",
       "      <td>0.000000e+00</td>\n",
       "      <td>0.000000e+00</td>\n",
       "      <td>0.000000</td>\n",
       "      <td>2022</td>\n",
       "      <td>1</td>\n",
       "      <td>0 days 00:28:53</td>\n",
       "    </tr>\n",
       "    <tr>\n",
       "      <th>4</th>\n",
       "      <td>73478</td>\n",
       "      <td>466943353EAC8022</td>\n",
       "      <td>classic_bike</td>\n",
       "      <td>2022-01-01 00:02:35</td>\n",
       "      <td>2022-01-01 00:31:04</td>\n",
       "      <td>Michigan Ave &amp; 8th St</td>\n",
       "      <td>623</td>\n",
       "      <td>Michigan Ave &amp; 8th St</td>\n",
       "      <td>623</td>\n",
       "      <td>41.872773</td>\n",
       "      <td>...</td>\n",
       "      <td>2022-01-01 00:31:04</td>\n",
       "      <td>0 days 00:28:29</td>\n",
       "      <td>2022-01-01 00:00:00</td>\n",
       "      <td>Friday</td>\n",
       "      <td>0.000000e+00</td>\n",
       "      <td>0.000000e+00</td>\n",
       "      <td>0.000000</td>\n",
       "      <td>2022</td>\n",
       "      <td>1</td>\n",
       "      <td>0 days 00:28:29</td>\n",
       "    </tr>\n",
       "    <tr>\n",
       "      <th>...</th>\n",
       "      <td>...</td>\n",
       "      <td>...</td>\n",
       "      <td>...</td>\n",
       "      <td>...</td>\n",
       "      <td>...</td>\n",
       "      <td>...</td>\n",
       "      <td>...</td>\n",
       "      <td>...</td>\n",
       "      <td>...</td>\n",
       "      <td>...</td>\n",
       "      <td>...</td>\n",
       "      <td>...</td>\n",
       "      <td>...</td>\n",
       "      <td>...</td>\n",
       "      <td>...</td>\n",
       "      <td>...</td>\n",
       "      <td>...</td>\n",
       "      <td>...</td>\n",
       "      <td>...</td>\n",
       "      <td>...</td>\n",
       "      <td>...</td>\n",
       "    </tr>\n",
       "    <tr>\n",
       "      <th>4369355</th>\n",
       "      <td>4140</td>\n",
       "      <td>78090C14B6003F5D</td>\n",
       "      <td>classic_bike</td>\n",
       "      <td>2022-12-31 23:57:18</td>\n",
       "      <td>2023-01-01 00:21:40</td>\n",
       "      <td>Wabash Ave &amp; 9th St</td>\n",
       "      <td>TA1309000010</td>\n",
       "      <td>Clark St &amp; Elm St</td>\n",
       "      <td>TA1307000039</td>\n",
       "      <td>41.870769</td>\n",
       "      <td>...</td>\n",
       "      <td>2023-01-01 00:21:40</td>\n",
       "      <td>0 days 00:24:22</td>\n",
       "      <td>2022-12-31 00:00:00</td>\n",
       "      <td>Friday</td>\n",
       "      <td>1.037098e-03</td>\n",
       "      <td>3.075812e-05</td>\n",
       "      <td>0.032678</td>\n",
       "      <td>2022</td>\n",
       "      <td>12</td>\n",
       "      <td>0 days 00:24:22</td>\n",
       "    </tr>\n",
       "    <tr>\n",
       "      <th>4369356</th>\n",
       "      <td>166964</td>\n",
       "      <td>207B82AF834747FD</td>\n",
       "      <td>electric_bike</td>\n",
       "      <td>2022-12-31 23:58:01</td>\n",
       "      <td>2023-01-01 00:06:40</td>\n",
       "      <td>Damen Ave &amp; Thomas St (Augusta Blvd)</td>\n",
       "      <td>TA1307000070</td>\n",
       "      <td>Troy St &amp; North Ave</td>\n",
       "      <td>15653</td>\n",
       "      <td>41.901250</td>\n",
       "      <td>...</td>\n",
       "      <td>2023-01-01 00:06:40</td>\n",
       "      <td>0 days 00:08:39</td>\n",
       "      <td>2022-12-31 00:00:00</td>\n",
       "      <td>Friday</td>\n",
       "      <td>7.257029e-05</td>\n",
       "      <td>7.799565e-04</td>\n",
       "      <td>0.029198</td>\n",
       "      <td>2022</td>\n",
       "      <td>12</td>\n",
       "      <td>0 days 00:08:39</td>\n",
       "    </tr>\n",
       "    <tr>\n",
       "      <th>4369357</th>\n",
       "      <td>148852</td>\n",
       "      <td>390512AD1B791E95</td>\n",
       "      <td>classic_bike</td>\n",
       "      <td>2022-12-31 23:58:41</td>\n",
       "      <td>2023-01-01 00:16:53</td>\n",
       "      <td>Indiana Ave &amp; Roosevelt Rd</td>\n",
       "      <td>SL-005</td>\n",
       "      <td>Indiana Ave &amp; Roosevelt Rd</td>\n",
       "      <td>SL-005</td>\n",
       "      <td>41.867888</td>\n",
       "      <td>...</td>\n",
       "      <td>2023-01-01 00:16:53</td>\n",
       "      <td>0 days 00:18:12</td>\n",
       "      <td>2022-12-31 00:00:00</td>\n",
       "      <td>Friday</td>\n",
       "      <td>0.000000e+00</td>\n",
       "      <td>0.000000e+00</td>\n",
       "      <td>0.000000</td>\n",
       "      <td>2022</td>\n",
       "      <td>12</td>\n",
       "      <td>0 days 00:18:12</td>\n",
       "    </tr>\n",
       "    <tr>\n",
       "      <th>4369358</th>\n",
       "      <td>148996</td>\n",
       "      <td>017486468322F08A</td>\n",
       "      <td>electric_bike</td>\n",
       "      <td>2022-12-31 23:59:01</td>\n",
       "      <td>2023-01-01 00:16:50</td>\n",
       "      <td>Indiana Ave &amp; Roosevelt Rd</td>\n",
       "      <td>SL-005</td>\n",
       "      <td>Indiana Ave &amp; Roosevelt Rd</td>\n",
       "      <td>SL-005</td>\n",
       "      <td>41.868109</td>\n",
       "      <td>...</td>\n",
       "      <td>2023-01-01 00:16:50</td>\n",
       "      <td>0 days 00:17:49</td>\n",
       "      <td>2022-12-31 00:00:00</td>\n",
       "      <td>Friday</td>\n",
       "      <td>4.899361e-08</td>\n",
       "      <td>9.044455e-10</td>\n",
       "      <td>0.000223</td>\n",
       "      <td>2022</td>\n",
       "      <td>12</td>\n",
       "      <td>0 days 00:17:49</td>\n",
       "    </tr>\n",
       "    <tr>\n",
       "      <th>4369359</th>\n",
       "      <td>96680</td>\n",
       "      <td>C4F7BB2F10637EA0</td>\n",
       "      <td>electric_bike</td>\n",
       "      <td>2022-12-31 23:59:26</td>\n",
       "      <td>2023-01-01 00:01:54</td>\n",
       "      <td>Drake Ave &amp; Addison St</td>\n",
       "      <td>KA1504000142</td>\n",
       "      <td>Monticello Ave &amp; Irving Park Rd</td>\n",
       "      <td>KA1504000139</td>\n",
       "      <td>41.947421</td>\n",
       "      <td>...</td>\n",
       "      <td>2023-01-01 00:01:54</td>\n",
       "      <td>0 days 00:02:28</td>\n",
       "      <td>2022-12-31 00:00:00</td>\n",
       "      <td>Friday</td>\n",
       "      <td>4.334913e-05</td>\n",
       "      <td>2.267071e-06</td>\n",
       "      <td>0.006754</td>\n",
       "      <td>2022</td>\n",
       "      <td>12</td>\n",
       "      <td>0 days 00:02:28</td>\n",
       "    </tr>\n",
       "  </tbody>\n",
       "</table>\n",
       "<p>4369360 rows × 25 columns</p>\n",
       "</div>"
      ],
      "text/plain": [
       "         Unnamed: 0           ride_id  rideable_type           started_at  \\\n",
       "0             73479  98D355D9A9852BE9   classic_bike  2022-01-01 00:00:05   \n",
       "1             68510  04706CA7F5BD25EE  electric_bike  2022-01-01 00:01:00   \n",
       "2             64490  42178E850B92597A  electric_bike  2022-01-01 00:01:16   \n",
       "3             73485  6B93C46E8F5B114C   classic_bike  2022-01-01 00:02:14   \n",
       "4             73478  466943353EAC8022   classic_bike  2022-01-01 00:02:35   \n",
       "...             ...               ...            ...                  ...   \n",
       "4369355        4140  78090C14B6003F5D   classic_bike  2022-12-31 23:57:18   \n",
       "4369356      166964  207B82AF834747FD  electric_bike  2022-12-31 23:58:01   \n",
       "4369357      148852  390512AD1B791E95   classic_bike  2022-12-31 23:58:41   \n",
       "4369358      148996  017486468322F08A  electric_bike  2022-12-31 23:59:01   \n",
       "4369359       96680  C4F7BB2F10637EA0  electric_bike  2022-12-31 23:59:26   \n",
       "\n",
       "                    ended_at                    start_station_name  \\\n",
       "0        2022-01-01 00:01:48                 Michigan Ave & 8th St   \n",
       "1        2022-01-01 00:04:39               Broadway & Waveland Ave   \n",
       "2        2022-01-01 00:32:14             Clark St & Ida B Wells Dr   \n",
       "3        2022-01-01 00:31:07                 Michigan Ave & 8th St   \n",
       "4        2022-01-01 00:31:04                 Michigan Ave & 8th St   \n",
       "...                      ...                                   ...   \n",
       "4369355  2023-01-01 00:21:40                   Wabash Ave & 9th St   \n",
       "4369356  2023-01-01 00:06:40  Damen Ave & Thomas St (Augusta Blvd)   \n",
       "4369357  2023-01-01 00:16:53            Indiana Ave & Roosevelt Rd   \n",
       "4369358  2023-01-01 00:16:50            Indiana Ave & Roosevelt Rd   \n",
       "4369359  2023-01-01 00:01:54                Drake Ave & Addison St   \n",
       "\n",
       "        start_station_id                 end_station_name end_station_id  \\\n",
       "0                    623            Michigan Ave & 8th St            623   \n",
       "1                  13325             Broadway & Barry Ave          13137   \n",
       "2           TA1305000009        Clark St & Ida B Wells Dr   TA1305000009   \n",
       "3                    623            Michigan Ave & 8th St            623   \n",
       "4                    623            Michigan Ave & 8th St            623   \n",
       "...                  ...                              ...            ...   \n",
       "4369355     TA1309000010                Clark St & Elm St   TA1307000039   \n",
       "4369356     TA1307000070              Troy St & North Ave          15653   \n",
       "4369357           SL-005       Indiana Ave & Roosevelt Rd         SL-005   \n",
       "4369358           SL-005       Indiana Ave & Roosevelt Rd         SL-005   \n",
       "4369359     KA1504000142  Monticello Ave & Irving Park Rd   KA1504000139   \n",
       "\n",
       "         start_lat  ...             end_time      ride_length  \\\n",
       "0        41.872773  ...  2022-01-01 00:01:48  0 days 00:01:43   \n",
       "1        41.949073  ...  2022-01-01 00:04:39  0 days 00:03:39   \n",
       "2        41.875919  ...  2022-01-01 00:32:14  0 days 00:30:58   \n",
       "3        41.872773  ...  2022-01-01 00:31:07  0 days 00:28:53   \n",
       "4        41.872773  ...  2022-01-01 00:31:04  0 days 00:28:29   \n",
       "...            ...  ...                  ...              ...   \n",
       "4369355  41.870769  ...  2023-01-01 00:21:40  0 days 00:24:22   \n",
       "4369356  41.901250  ...  2023-01-01 00:06:40  0 days 00:08:39   \n",
       "4369357  41.867888  ...  2023-01-01 00:16:53  0 days 00:18:12   \n",
       "4369358  41.868109  ...  2023-01-01 00:16:50  0 days 00:17:49   \n",
       "4369359  41.947421  ...  2023-01-01 00:01:54  0 days 00:02:28   \n",
       "\n",
       "                 start_date1 week_day             x             y  distance  \\\n",
       "0        2022-01-01 00:00:00   Friday  0.000000e+00  0.000000e+00  0.000000   \n",
       "1        2022-01-01 00:00:00   Friday  1.320396e-04  2.056648e-05  0.012353   \n",
       "2        2022-01-01 00:00:00   Friday  1.822185e-10  3.712438e-07  0.000609   \n",
       "3        2022-01-01 00:00:00   Friday  0.000000e+00  0.000000e+00  0.000000   \n",
       "4        2022-01-01 00:00:00   Friday  0.000000e+00  0.000000e+00  0.000000   \n",
       "...                      ...      ...           ...           ...       ...   \n",
       "4369355  2022-12-31 00:00:00   Friday  1.037098e-03  3.075812e-05  0.032678   \n",
       "4369356  2022-12-31 00:00:00   Friday  7.257029e-05  7.799565e-04  0.029198   \n",
       "4369357  2022-12-31 00:00:00   Friday  0.000000e+00  0.000000e+00  0.000000   \n",
       "4369358  2022-12-31 00:00:00   Friday  4.899361e-08  9.044455e-10  0.000223   \n",
       "4369359  2022-12-31 00:00:00   Friday  4.334913e-05  2.267071e-06  0.006754   \n",
       "\n",
       "         year month        ride_len  \n",
       "0        2022     1 0 days 00:01:43  \n",
       "1        2022     1 0 days 00:03:39  \n",
       "2        2022     1 0 days 00:30:58  \n",
       "3        2022     1 0 days 00:28:53  \n",
       "4        2022     1 0 days 00:28:29  \n",
       "...       ...   ...             ...  \n",
       "4369355  2022    12 0 days 00:24:22  \n",
       "4369356  2022    12 0 days 00:08:39  \n",
       "4369357  2022    12 0 days 00:18:12  \n",
       "4369358  2022    12 0 days 00:17:49  \n",
       "4369359  2022    12 0 days 00:02:28  \n",
       "\n",
       "[4369360 rows x 25 columns]"
      ]
     },
     "execution_count": 98,
     "metadata": {},
     "output_type": "execute_result"
    }
   ],
   "source": [
    "# Print the cleaned dataframe\n",
    "cleaned_file"
   ]
  },
  {
   "cell_type": "code",
   "execution_count": 99,
   "id": "b3d99336",
   "metadata": {},
   "outputs": [
    {
     "data": {
      "text/plain": [
       "Unnamed: 0            0\n",
       "ride_id               0\n",
       "rideable_type         0\n",
       "started_at            0\n",
       "ended_at              0\n",
       "start_station_name    0\n",
       "start_station_id      0\n",
       "end_station_name      0\n",
       "end_station_id        0\n",
       "start_lat             0\n",
       "start_lng             0\n",
       "end_lat               0\n",
       "end_lng               0\n",
       "member_casual         0\n",
       "start_time            0\n",
       "end_time              0\n",
       "ride_length           0\n",
       "start_date1           0\n",
       "week_day              0\n",
       "x                     0\n",
       "y                     0\n",
       "distance              0\n",
       "year                  0\n",
       "month                 0\n",
       "ride_len              0\n",
       "dtype: int64"
      ]
     },
     "execution_count": 99,
     "metadata": {},
     "output_type": "execute_result"
    }
   ],
   "source": [
    "# To check if there are null values in dataframe\n",
    "\n",
    "cleaned_file.isnull().sum()"
   ]
  },
  {
   "cell_type": "code",
   "execution_count": 100,
   "id": "572465c8",
   "metadata": {},
   "outputs": [
    {
     "data": {
      "text/plain": [
       "False"
      ]
     },
     "execution_count": 100,
     "metadata": {},
     "output_type": "execute_result"
    }
   ],
   "source": [
    "# To check if there are any duplicate values in dataframe\n",
    "\n",
    "cleaned_file.duplicated().any()"
   ]
  },
  {
   "cell_type": "markdown",
   "id": "7e4223b4",
   "metadata": {},
   "source": [
    "***Analysis***"
   ]
  },
  {
   "cell_type": "code",
   "execution_count": 101,
   "id": "24fd479f",
   "metadata": {},
   "outputs": [
    {
     "data": {
      "text/plain": [
       "Timedelta('0 days 00:17:05.710490552')"
      ]
     },
     "execution_count": 101,
     "metadata": {},
     "output_type": "execute_result"
    }
   ],
   "source": [
    "#To calculate mean of ride length of all types of users\n",
    "\n",
    "mean_ride_length = cleaned_file[\"ride_len\"].mean()\n",
    "mean_ride_length"
   ]
  },
  {
   "cell_type": "code",
   "execution_count": 102,
   "id": "4b304c53",
   "metadata": {},
   "outputs": [
    {
     "data": {
      "text/plain": [
       "Timedelta('23 days 20:34:04')"
      ]
     },
     "execution_count": 102,
     "metadata": {},
     "output_type": "execute_result"
    }
   ],
   "source": [
    "# Calculate the max ride_length of all types of users\n",
    "\n",
    "max_ride_length = cleaned_file[\"ride_len\"].max()\n",
    "max_ride_length"
   ]
  },
  {
   "cell_type": "code",
   "execution_count": 103,
   "id": "bb602b34",
   "metadata": {},
   "outputs": [
    {
     "data": {
      "text/plain": [
       "Timedelta('0 days 00:12:27.076499777')"
      ]
     },
     "execution_count": 103,
     "metadata": {},
     "output_type": "execute_result"
    }
   ],
   "source": [
    "# To calculate mean ride length for member\n",
    "\n",
    "mean_ride_length_member = cleaned_file[cleaned_file[\"member_casual\"] == \"member\"]\n",
    "mean_ride_length_member = mean_ride_length_member[\"ride_len\"].mean()\n",
    "mean_ride_length_member"
   ]
  },
  {
   "cell_type": "code",
   "execution_count": 104,
   "id": "200a37e3",
   "metadata": {},
   "outputs": [
    {
     "data": {
      "text/plain": [
       "Timedelta('0 days 00:23:59.523224181')"
      ]
     },
     "execution_count": 104,
     "metadata": {},
     "output_type": "execute_result"
    }
   ],
   "source": [
    "# To calculate mean ride length for casual riders\n",
    "\n",
    "mean_ride_length_casual = cleaned_file[cleaned_file[\"member_casual\"] == \"casual\"]\n",
    "mean_ride_length_casual = mean_ride_length_casual[\"ride_len\"].mean()\n",
    "mean_ride_length_casual"
   ]
  },
  {
   "cell_type": "code",
   "execution_count": 105,
   "id": "a4e33190",
   "metadata": {},
   "outputs": [
    {
     "data": {
      "text/plain": [
       "Timedelta('1 days 00:53:14')"
      ]
     },
     "execution_count": 105,
     "metadata": {},
     "output_type": "execute_result"
    }
   ],
   "source": [
    "# To calculate max ride length for member\n",
    "\n",
    "max_ride_length_member = cleaned_file[cleaned_file[\"member_casual\"] == \"member\"]\n",
    "max_ride_length_member = max_ride_length_member[\"ride_len\"].max()\n",
    "max_ride_length_member"
   ]
  },
  {
   "cell_type": "code",
   "execution_count": 106,
   "id": "2b61311f",
   "metadata": {},
   "outputs": [
    {
     "data": {
      "text/plain": [
       "Timedelta('23 days 20:34:04')"
      ]
     },
     "execution_count": 106,
     "metadata": {},
     "output_type": "execute_result"
    }
   ],
   "source": [
    "# To calculate max ride length for casual riders\n",
    "\n",
    "max_ride_length_casual = cleaned_file[cleaned_file[\"member_casual\"] == \"casual\"]\n",
    "max_ride_length_casual = max_ride_length_casual[\"ride_len\"].max()\n",
    "max_ride_length_casual"
   ]
  },
  {
   "cell_type": "code",
   "execution_count": 107,
   "id": "035a96fc",
   "metadata": {},
   "outputs": [
    {
     "data": {
      "text/plain": [
       "0    Friday\n",
       "dtype: object"
      ]
     },
     "execution_count": 107,
     "metadata": {},
     "output_type": "execute_result"
    }
   ],
   "source": [
    "# Calculate the mode of week_day for all types of users\n",
    "\n",
    "mode_week_day = cleaned_file[\"week_day\"].mode()\n",
    "mode_week_day"
   ]
  },
  {
   "cell_type": "code",
   "execution_count": 108,
   "id": "a2dcfdf0",
   "metadata": {},
   "outputs": [
    {
     "data": {
      "text/plain": [
       "0    Wednesday\n",
       "dtype: object"
      ]
     },
     "execution_count": 108,
     "metadata": {},
     "output_type": "execute_result"
    }
   ],
   "source": [
    "# To calculate mode of week_day for member\n",
    "\n",
    "mode_week_day_member = cleaned_file[cleaned_file[\"member_casual\"] == \"member\"]\n",
    "mode_week_day_member = mode_week_day_member[\"week_day\"].mode()\n",
    "mode_week_day_member"
   ]
  },
  {
   "cell_type": "code",
   "execution_count": 109,
   "id": "b3d7a952",
   "metadata": {},
   "outputs": [
    {
     "data": {
      "text/plain": [
       "0    Friday\n",
       "dtype: object"
      ]
     },
     "execution_count": 109,
     "metadata": {},
     "output_type": "execute_result"
    }
   ],
   "source": [
    "# To calculate mode of week_day for casual\n",
    "\n",
    "mode_week_day_casual = cleaned_file[cleaned_file[\"member_casual\"] == \"casual\"]\n",
    "mode_week_day_casual = mode_week_day_casual[\"week_day\"].mode()\n",
    "mode_week_day_casual"
   ]
  },
  {
   "cell_type": "code",
   "execution_count": 110,
   "id": "6f3efe1c",
   "metadata": {},
   "outputs": [
    {
     "data": {
      "text/plain": [
       "week_day\n",
       "0    585930\n",
       "1    607639\n",
       "2    616371\n",
       "3    645897\n",
       "4    608851\n",
       "5    705623\n",
       "6    599049\n",
       "Name: ride_id, dtype: int64"
      ]
     },
     "execution_count": 110,
     "metadata": {},
     "output_type": "execute_result"
    }
   ],
   "source": [
    "# Calculate the number of rides for users by week_day by adding Count of ride_id to Values\n",
    "\n",
    "dict1 = {\"Sunday\": 0, \"Monday\": 1, \"Tuesday\": 2, \"Wednesday\": 3, \"Thursday\": 4, \"Friday\":5, \"Saturday\": 6}\n",
    "cleaned_file['week_day'] = cleaned_file['week_day'].apply(lambda y: dict1[y])\n",
    "\n",
    "count_users_week_day = cleaned_file.groupby('week_day')['ride_id'].count()\n",
    "count_users_week_day = count_users_week_day.sort_index()\n",
    "count_users_week_day"
   ]
  },
  {
   "cell_type": "code",
   "execution_count": 111,
   "id": "d0c84b83",
   "metadata": {},
   "outputs": [
    {
     "data": {
      "text/plain": [
       "week_day\n",
       "0    375171\n",
       "1    411249\n",
       "2    412795\n",
       "3    415890\n",
       "4    360054\n",
       "5    338279\n",
       "6    297733\n",
       "Name: ride_id, dtype: int64"
      ]
     },
     "execution_count": 111,
     "metadata": {},
     "output_type": "execute_result"
    }
   ],
   "source": [
    "# Calculate the number of rides for member by week_day by adding Count of ride_id to Values\n",
    "\n",
    "count_member_week_day = cleaned_file[cleaned_file[\"member_casual\"] == \"member\"].groupby('week_day')['ride_id'].count()\n",
    "count_member_week_day"
   ]
  },
  {
   "cell_type": "code",
   "execution_count": 112,
   "id": "fe4879f6",
   "metadata": {},
   "outputs": [
    {
     "data": {
      "text/plain": [
       "week_day\n",
       "0    210759\n",
       "1    196390\n",
       "2    203576\n",
       "3    230007\n",
       "4    248797\n",
       "5    367344\n",
       "6    301316\n",
       "Name: ride_id, dtype: int64"
      ]
     },
     "execution_count": 112,
     "metadata": {},
     "output_type": "execute_result"
    }
   ],
   "source": [
    "# Calculate the number of rides for casual by week_day by adding Count of ride_id to Values\n",
    "\n",
    "count_casual_week_day = cleaned_file[cleaned_file[\"member_casual\"] == \"casual\"].groupby('week_day')['ride_id'].count()\n",
    "count_casual_week_day"
   ]
  },
  {
   "cell_type": "code",
   "execution_count": 113,
   "id": "b6190123",
   "metadata": {},
   "outputs": [
    {
     "data": {
      "image/png": "[encoded data removed]",
      "text/plain": [
       "<Figure size 576x432 with 1 Axes>"
      ]
     },
     "metadata": {
      "needs_background": "light"
     },
     "output_type": "display_data"
    }
   ],
   "source": [
    "# To plot graph of Weekday Vs Number Of Rides\n",
    "\n",
    "plt.figure(figsize = (8,6))\n",
    "plt.plot(count_users_week_day.index, count_users_week_day.values)\n",
    "plt.plot(count_member_week_day.index, count_member_week_day.values)\n",
    "plt.plot(count_casual_week_day.index, count_casual_week_day.values)\n",
    "plt.title(\"Calculate the number of rides for different users by week_day by adding Count of ride_id to Values\")\n",
    "plt.legend([\"user\", \"member\", \"casual\"])\n",
    "labels = [\"Sunday\", \"Monday\", \"Tuesday\", \"Wednesday\", \"Thursday\", \"Friday\", \"Saturday\"]\n",
    "plt.xticks(count_casual_week_day.index, labels)\n",
    "plt.show()"
   ]
  },
  {
   "cell_type": "code",
   "execution_count": 114,
   "id": "8945bede",
   "metadata": {},
   "outputs": [
    {
     "data": {
      "text/plain": [
       "week_day\n",
       "0   0 days 00:16:38.239607120\n",
       "1   0 days 00:14:54.559707326\n",
       "2   0 days 00:14:46.610176338\n",
       "3   0 days 00:15:22.123868047\n",
       "4   0 days 00:16:21.984989759\n",
       "5   0 days 00:20:38.209171186\n",
       "6   0 days 00:20:34.558835754\n",
       "Name: ride_len, dtype: timedelta64[ns]"
      ]
     },
     "execution_count": 114,
     "metadata": {},
     "output_type": "execute_result"
    }
   ],
   "source": [
    "# Calculate the average ride_length for users by week_day\n",
    "\n",
    "user_avg_ride_len_week_day = cleaned_file.groupby(\"week_day\")['ride_len'].mean(numeric_only=False)\n",
    "user_avg_ride_len_week_day"
   ]
  },
  {
   "cell_type": "code",
   "execution_count": 115,
   "id": "61a99188",
   "metadata": {},
   "outputs": [
    {
     "data": {
      "text/plain": [
       "week_day\n",
       "0   0 days 00:12:01.966143438\n",
       "1   0 days 00:11:47.437165804\n",
       "2   0 days 00:11:50.812592206\n",
       "3   0 days 00:12:01.881560027\n",
       "4   0 days 00:12:13.614349514\n",
       "5   0 days 00:13:58.878227735\n",
       "6   0 days 00:13:50.919075144\n",
       "Name: ride_len, dtype: timedelta64[ns]"
      ]
     },
     "execution_count": 115,
     "metadata": {},
     "output_type": "execute_result"
    }
   ],
   "source": [
    "# Calculate the average ride_length for members by week_day\n",
    "\n",
    "member_avg_ride_len_week_day = cleaned_file[cleaned_file[\"member_casual\"] == \"member\"].groupby('week_day')['ride_len'].mean(numeric_only=False)\n",
    "member_avg_ride_len_week_day"
   ]
  },
  {
   "cell_type": "code",
   "execution_count": 116,
   "id": "979a6207",
   "metadata": {},
   "outputs": [
    {
     "data": {
      "text/plain": [
       "week_day\n",
       "0   0 days 00:24:50.032563259\n",
       "1   0 days 00:21:26.402255715\n",
       "2   0 days 00:20:43.078344205\n",
       "3   0 days 00:21:24.194472342\n",
       "4   0 days 00:22:21.421970522\n",
       "5   0 days 00:26:45.944242998\n",
       "6   0 days 00:27:13.398847057\n",
       "Name: ride_len, dtype: timedelta64[ns]"
      ]
     },
     "execution_count": 116,
     "metadata": {},
     "output_type": "execute_result"
    }
   ],
   "source": [
    "# Calculate the average ride_length for casual by week_day\n",
    "\n",
    "casual_avg_ride_len_week_day = cleaned_file[cleaned_file[\"member_casual\"] == \"casual\"].groupby('week_day')['ride_len'].mean(numeric_only=False)\n",
    "casual_avg_ride_len_week_day"
   ]
  },
  {
   "cell_type": "code",
   "execution_count": 117,
   "id": "50ae8afd",
   "metadata": {},
   "outputs": [
    {
     "data": {
      "image/png": "[encoded data removed]",
      "text/plain": [
       "<Figure size 432x288 with 1 Axes>"
      ]
     },
     "metadata": {
      "needs_background": "light"
     },
     "output_type": "display_data"
    }
   ],
   "source": [
    "# To plot graph of Weekday Vs Average ride length\n",
    "\n",
    "plt.plot(user_avg_ride_len_week_day/pd.Timedelta(minutes=1))\n",
    "plt.plot(member_avg_ride_len_week_day/pd.Timedelta(minutes=1))\n",
    "plt.plot(casual_avg_ride_len_week_day/pd.Timedelta(minutes=1))\n",
    "plt.title(\"The average ride_length for different users by week_day\")\n",
    "plt.legend([\"user\", \"member\", \"casual\"])\n",
    "labels = [\"Sunday\", \"Monday\", \"Tuesday\", \"Wednesday\", \"Thursday\", \"Friday\", \"Saturday\"]\n",
    "plt.xticks(user_avg_ride_len_week_day.index, labels)\n",
    "plt.show()"
   ]
  },
  {
   "cell_type": "code",
   "execution_count": 118,
   "id": "029cd3e2",
   "metadata": {},
   "outputs": [],
   "source": [
    "# To extract important features of the dataframe into a new dataframe\n",
    "final_file = cleaned_file[[\"ride_id\", \"rideable_type\", \"ride_len\", \"week_day\", \"distance\", \"year\", \"month\", \"member_casual\"]]"
   ]
  },
  {
   "cell_type": "code",
   "execution_count": 119,
   "id": "58f12e29",
   "metadata": {},
   "outputs": [
    {
     "name": "stdout",
     "output_type": "stream",
     "text": [
      "<class 'pandas.core.frame.DataFrame'>\n",
      "RangeIndex: 4369360 entries, 0 to 4369359\n",
      "Data columns (total 8 columns):\n",
      " #   Column         Dtype          \n",
      "---  ------         -----          \n",
      " 0   ride_id        object         \n",
      " 1   rideable_type  object         \n",
      " 2   ride_len       timedelta64[ns]\n",
      " 3   week_day       int64          \n",
      " 4   distance       float64        \n",
      " 5   year           int64          \n",
      " 6   month          int64          \n",
      " 7   member_casual  object         \n",
      "dtypes: float64(1), int64(3), object(3), timedelta64[ns](1)\n",
      "memory usage: 266.7+ MB\n"
     ]
    }
   ],
   "source": [
    "# To get the information of the dataframe\n",
    "final_file.info()"
   ]
  },
  {
   "cell_type": "markdown",
   "id": "381022c1",
   "metadata": {},
   "source": [
    "***Data Analysis***\n"
   ]
  },
  {
   "cell_type": "code",
   "execution_count": 120,
   "id": "809b419a",
   "metadata": {},
   "outputs": [
    {
     "data": {
      "text/plain": [
       "member    2611171\n",
       "casual    1758189\n",
       "Name: member_casual, dtype: int64"
      ]
     },
     "execution_count": 120,
     "metadata": {},
     "output_type": "execute_result"
    }
   ],
   "source": [
    "# To check the number of users in each type over past 13 months\n",
    "\n",
    "member_type = final_file[\"member_casual\"].value_counts()\n",
    "member_type"
   ]
  },
  {
   "cell_type": "code",
   "execution_count": 121,
   "id": "e81d01be",
   "metadata": {},
   "outputs": [
    {
     "data": {
      "image/png": "[encoded data removed]",
      "text/plain": [
       "<Figure size 432x288 with 1 Axes>"
      ]
     },
     "metadata": {
      "needs_background": "light"
     },
     "output_type": "display_data"
    }
   ],
   "source": [
    "# To plot the count plot of users in each type\n",
    "\n",
    "plt.title(\"count of users in each type\")\n",
    "plt.bar(member_type.index, member_type.values)\n",
    "plt.show()"
   ]
  },
  {
   "cell_type": "code",
   "execution_count": 122,
   "id": "365dbeb3",
   "metadata": {},
   "outputs": [
    {
     "data": {
      "image/png": "[encoded data removed]",
      "text/plain": [
       "<Figure size 576x432 with 1 Axes>"
      ]
     },
     "metadata": {},
     "output_type": "display_data"
    }
   ],
   "source": [
    "# To plot the pie chart of users in each type\n",
    "\n",
    "plt.figure(figsize = (8,6))\n",
    "plt.pie(member_type.values, labels = member_type.index, autopct='%1.1f%%')\n",
    "plt.title(\"Percentage of users in each type\")\n",
    "plt.legend(member_type.index)\n",
    "plt.show()"
   ]
  },
  {
   "cell_type": "code",
   "execution_count": 123,
   "id": "e0bd7886",
   "metadata": {},
   "outputs": [
    {
     "data": {
      "text/plain": [
       "year  member_casual\n",
       "2022  member           2611171\n",
       "      casual           1758189\n",
       "Name: member_casual, dtype: int64"
      ]
     },
     "execution_count": 123,
     "metadata": {},
     "output_type": "execute_result"
    }
   ],
   "source": [
    "# To check the number of users over years\n",
    "\n",
    "users_over_year = final_file.groupby('year')['member_casual'].value_counts()\n",
    "users_over_year"
   ]
  },
  {
   "cell_type": "code",
   "execution_count": 124,
   "id": "94ac7ec5",
   "metadata": {},
   "outputs": [],
   "source": [
    "# To segregate the number of users into member or casual riders over the years\n",
    "\n",
    "list_year = []\n",
    "list_x = []\n",
    "list_y = list(users_over_year.values)\n",
    "for i, j in users_over_year.index:\n",
    "  list_x.append(j)\n",
    "  list_year.append(str(i))"
   ]
  },
  {
   "cell_type": "code",
   "execution_count": 125,
   "id": "2a0c3ef9",
   "metadata": {},
   "outputs": [
    {
     "name": "stderr",
     "output_type": "stream",
     "text": [
      "C:\\Users\\naeem\\AppData\\Roaming\\Python\\Python37\\site-packages\\seaborn\\_decorators.py:43: FutureWarning: Pass the following variables as keyword args: x, y. From version 0.12, the only valid positional argument will be `data`, and passing other arguments without an explicit keyword will result in an error or misinterpretation.\n",
      "  FutureWarning\n"
     ]
    },
    {
     "data": {
      "text/plain": [
       "Text(0.5, 1.0, 'Count of Member and Casual Riders over the years')"
      ]
     },
     "execution_count": 125,
     "metadata": {},
     "output_type": "execute_result"
    },
    {
     "data": {
      "image/png": "[encoded data removed]",
      "text/plain": [
       "<Figure size 432x288 with 1 Axes>"
      ]
     },
     "metadata": {
      "needs_background": "light"
     },
     "output_type": "display_data"
    }
   ],
   "source": [
    "sns.barplot(list_x, list_y, hue = list_year)\n",
    "plt.title(\"Count of Member and Casual Riders over the years\")"
   ]
  },
  {
   "cell_type": "code",
   "execution_count": 126,
   "id": "388925e1",
   "metadata": {},
   "outputs": [
    {
     "data": {
      "text/plain": [
       "month  member_casual\n",
       "1      member            67523\n",
       "       casual            12605\n",
       "2      member            74034\n",
       "       casual            15144\n",
       "3      member           148827\n",
       "       casual            67156\n",
       "4      member           180663\n",
       "       casual            91897\n",
       "5      member           282299\n",
       "       casual           220246\n",
       "6      member           328282\n",
       "       casual           292068\n",
       "7      member           331002\n",
       "       casual           311678\n",
       "8      member           335230\n",
       "       casual           270095\n",
       "9      member           314230\n",
       "       casual           220915\n",
       "10     member           262945\n",
       "       casual           151324\n",
       "11     member           182238\n",
       "       casual            73556\n",
       "12     member           103898\n",
       "       casual            31505\n",
       "Name: member_casual, dtype: int64"
      ]
     },
     "execution_count": 126,
     "metadata": {},
     "output_type": "execute_result"
    }
   ],
   "source": [
    "# To check the number of users over months\n",
    "\n",
    "users_over_month = final_file.groupby('month')['member_casual'].value_counts()\n",
    "users_over_month"
   ]
  },
  {
   "cell_type": "code",
   "execution_count": 127,
   "id": "269328ca",
   "metadata": {},
   "outputs": [],
   "source": [
    "# To segregate the number of users into member or casual riders over the months\n",
    "\n",
    "list_month = []\n",
    "list_x = []\n",
    "list_y = list(users_over_month.values)\n",
    "for i, j in users_over_month.index:\n",
    "  list_x.append(j)\n",
    "  list_month.append(str(i))"
   ]
  },
  {
   "cell_type": "code",
   "execution_count": 128,
   "id": "ad228a77",
   "metadata": {},
   "outputs": [
    {
     "name": "stderr",
     "output_type": "stream",
     "text": [
      "C:\\Users\\naeem\\AppData\\Roaming\\Python\\Python37\\site-packages\\seaborn\\_decorators.py:43: FutureWarning: Pass the following variables as keyword args: x, y. From version 0.12, the only valid positional argument will be `data`, and passing other arguments without an explicit keyword will result in an error or misinterpretation.\n",
      "  FutureWarning\n"
     ]
    },
    {
     "data": {
      "text/plain": [
       "Text(0.5, 1.0, 'Count of Member and Casual Riders over the months')"
      ]
     },
     "execution_count": 128,
     "metadata": {},
     "output_type": "execute_result"
    },
    {
     "data": {
      "image/png": "[encoded data removed]",
      "text/plain": [
       "<Figure size 1296x576 with 1 Axes>"
      ]
     },
     "metadata": {
      "needs_background": "light"
     },
     "output_type": "display_data"
    }
   ],
   "source": [
    "# Plot count of Member and Casual Riders over the months\n",
    "\n",
    "plt.figure(figsize = (18,8))\n",
    "sns.barplot(list_x, list_y, hue = list_month)\n",
    "plt.title(\"Count of Member and Casual Riders over the months\")"
   ]
  },
  {
   "cell_type": "code",
   "execution_count": 129,
   "id": "265b3080",
   "metadata": {},
   "outputs": [
    {
     "data": {
      "text/plain": [
       "member_casual  rideable_type\n",
       "casual         classic_bike      888780\n",
       "               electric_bike     694551\n",
       "               docked_bike       174858\n",
       "member         classic_bike     1708646\n",
       "               electric_bike     902525\n",
       "Name: rideable_type, dtype: int64"
      ]
     },
     "execution_count": 129,
     "metadata": {},
     "output_type": "execute_result"
    }
   ],
   "source": [
    "# To check the number of users for a particulat rideable_type\n",
    "\n",
    "ride_type = final_file.groupby(\"member_casual\")[\"rideable_type\"].value_counts()\n",
    "ride_type"
   ]
  },
  {
   "cell_type": "code",
   "execution_count": 130,
   "id": "425f3964",
   "metadata": {},
   "outputs": [],
   "source": [
    "# To segregate the number of users into member or casual riders based on ride type\n",
    "\n",
    "list_member = []\n",
    "list_x = []\n",
    "list_y = list(ride_type.values)\n",
    "for i, j in ride_type.index:\n",
    "  list_x.append(j)\n",
    "  list_member.append(str(i))"
   ]
  },
  {
   "cell_type": "code",
   "execution_count": 131,
   "id": "ae466397",
   "metadata": {},
   "outputs": [
    {
     "name": "stderr",
     "output_type": "stream",
     "text": [
      "C:\\Users\\naeem\\AppData\\Roaming\\Python\\Python37\\site-packages\\seaborn\\_decorators.py:43: FutureWarning: Pass the following variables as keyword args: x, y. From version 0.12, the only valid positional argument will be `data`, and passing other arguments without an explicit keyword will result in an error or misinterpretation.\n",
      "  FutureWarning\n"
     ]
    },
    {
     "data": {
      "text/plain": [
       "Text(0.5, 1.0, 'Count of Member and Casual Riders over the months')"
      ]
     },
     "execution_count": 131,
     "metadata": {},
     "output_type": "execute_result"
    },
    {
     "data": {
      "image/png": "[encoded data removed]",
      "text/plain": [
       "<Figure size 1296x576 with 1 Axes>"
      ]
     },
     "metadata": {
      "needs_background": "light"
     },
     "output_type": "display_data"
    }
   ],
   "source": [
    "# To plot number of users into member or casual riders based on ride type\n",
    "\n",
    "plt.figure(figsize = (18,8))\n",
    "sns.barplot(list_x, list_y, hue = list_member)\n",
    "plt.title(\"Count of Member and Casual Riders over the months\")"
   ]
  },
  {
   "cell_type": "code",
   "execution_count": null,
   "id": "49bbbd61",
   "metadata": {},
   "outputs": [],
   "source": []
  }
 ],
 "metadata": {
  "kernelspec": {
   "display_name": "Python 3 (ipykernel)",
   "language": "python",
   "name": "python3"
  },
  "language_info": {
   "codemirror_mode": {
    "name": "ipython",
    "version": 3
   },
   "file_extension": ".py",
   "mimetype": "text/x-python",
   "name": "python",
   "nbconvert_exporter": "python",
   "pygments_lexer": "ipython3",
   "version": "3.7.8"
  }
 },
 "nbformat": 4,
 "nbformat_minor": 5
}
